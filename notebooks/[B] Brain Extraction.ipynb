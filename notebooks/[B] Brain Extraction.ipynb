{
 "cells": [
  {
   "cell_type": "markdown",
   "metadata": {},
   "source": [
    "### Brain Extraction"
   ]
  },
  {
   "cell_type": "markdown",
   "metadata": {},
   "source": [
    "Once the data is downloaded, this script is used extract the brain from the skull. We used Deep_MRI_brain_extraction [Deep MRI Brain Extraction](https://github.com/GUR9000/Deep_MRI_brain_extraction)\n",
    "(we used the commit version 7c2db1e).\n",
    "\n",
    "You **must** have a separate environment with the packages listed below because it an older model and uses Theano and older version of python: \n",
    "\n",
    "- **Python 2.7**\n",
    "- theano 0.8.2\n",
    "- nose\n",
    "- h5py 2.9.0\n",
    "- nibabel 2.5.2\n",
    "\n",
    "**PYTHON 2.7 AND THESE PACKAGES IS ONLY FOR THIS NOTEBOOK** \\\n",
    "**ANY OTHER SCRIPT OUTSIDE THIS NOTEBOOK FOLLOWS THE Readme.md**\n",
    "\n",
    "You should also have `~/.theanorc` configured. For example, this demo uses CPU version of the brain extraction model and the following snippet of code is within `~/.theanorc`:\n",
    "\n",
    "    [global]\n",
    "    floatX=float32 \n",
    "    device=cpu\n",
    "\n",
    "We highly recommend configuring theano so that it uses GPU by following the instruction within their repository [repository](https://github.com/GUR9000/Deep_MRI_brain_extraction). However, feel free to any other brain extraction algorithm.\n",
    "\n",
    "The scripts within this notebook creates 3 folder `T1_mask`, `T2_mask` and `PD_mask` within `../data/processed_IXI/`. Each mask has the following naming convention `IXI###-HOSPITAL-####_mask.nii.gz`. For example, subject `../data/processed_IXI/T1/IXI261-HH-1704.nii` will have a corresponding mask  `../data/processed_IXI/T1_mask/IXI261-HH-1704_mask.nii.gz`."
   ]
  },
  {
   "cell_type": "markdown",
   "metadata": {},
   "source": [
    "### Skullstripping"
   ]
  },
  {
   "cell_type": "markdown",
   "metadata": {},
   "source": [
    "Clones the repository and predict the mask"
   ]
  },
  {
   "cell_type": "code",
   "execution_count": null,
   "metadata": {},
   "outputs": [],
   "source": [
    "import shutil\n",
    "shutil.rmtree('./misc/', ignore_errors=True)\n",
    "\n",
    "\"\"\"Cloning repository\"\"\"\n",
    "!git clone https://github.com/GUR9000/Deep_MRI_brain_extraction.git ./misc/Deep_MRI_brain_extraction/\n",
    "!cd ./misc/Deep_MRI_brain_extraction/ && git checkout 7c2db1e\n",
    "\n",
    "\"\"\"Remove matplotlib\"\"\"\n",
    "_file = \"./misc/Deep_MRI_brain_extraction/NNet_Core/NN_ConvNet.py\"\n",
    "a_file = open(_file, \"r\")\n",
    "list_of_lines = a_file.readlines()\n",
    "list_of_lines[87] = '#from matplotlib import pyplot as plot\\n'\n",
    "a_file = open(_file, \"w\")\n",
    "a_file.writelines(list_of_lines)\n",
    "a_file.close()\n",
    "\n",
    "from pathlib import Path\n",
    "Path('../data/processed_IXI/T1_mask/').mkdir(parents=True, exist_ok=True)\n",
    "Path('../data/processed_IXI/T2_mask/').mkdir(parents=True, exist_ok=True)\n",
    "Path('../data/processed_IXI/PD_mask/').mkdir(parents=True, exist_ok=True)\n",
    "\n",
    "!python ./misc/Deep_MRI_brain_extraction/deep3Dpredict.py \\\n",
    "        -n ./misc/Deep_MRI_brain_extraction/OASIS_ISBR_LPBA40__trained_CNN.save \\\n",
    "        -i ../data/processed_IXI/T1/ \\\n",
    "        -o ../data/processed_IXI/T1_mask/ \\\n",
    "        -gridsize 16\n",
    "\n",
    "!python ./misc/Deep_MRI_brain_extraction/deep3Dpredict.py \\\n",
    "        -n ./misc/Deep_MRI_brain_extraction/OASIS_ISBR_LPBA40__trained_CNN.save \\\n",
    "        -i ../data/processed_IXI/T2/ \\\n",
    "        -o ../data/processed_IXI/T2_mask/ \\\n",
    "        -gridsize 16\n",
    "\n",
    "!python ./misc/Deep_MRI_brain_extraction/deep3Dpredict.py \\\n",
    "        -n ./misc/Deep_MRI_brain_extraction/OASIS_ISBR_LPBA40__trained_CNN.save \\\n",
    "        -i ../data/processed_IXI/PD/ \\\n",
    "        -o ../data/processed_IXI/PD_mask/ \\\n",
    "        -gridsize 16\n"
   ]
  },
  {
   "cell_type": "markdown",
   "metadata": {},
   "source": [
    "### Renaming files"
   ]
  },
  {
   "cell_type": "markdown",
   "metadata": {},
   "source": [
    "Rename each file and delete unnecessary outputs"
   ]
  },
  {
   "cell_type": "code",
   "execution_count": null,
   "metadata": {},
   "outputs": [],
   "source": [
    "for m in ['T1_mask/', 'T2_mask/', 'PD_mask/']:\n",
    "    _path = '../data/processed_IXI/'+m\n",
    "    for d in os.listdir(_path):\n",
    "        if 'mask' in d:\n",
    "            os.rename(_path+d, \n",
    "                      _path+d.split('_')[1]+'_mask.nii.gz')\n",
    "        else: \n",
    "            os.remove(_path+d)\n",
    "            print('a')"
   ]
  }
 ],
 "metadata": {
  "kernelspec": {
   "display_name": "Python 3 (ipykernel)",
   "language": "python",
   "name": "python3"
  },
  "language_info": {
   "codemirror_mode": {
    "name": "ipython",
    "version": 3
   },
   "file_extension": ".py",
   "mimetype": "text/x-python",
   "name": "python",
   "nbconvert_exporter": "python",
   "pygments_lexer": "ipython3",
   "version": "3.7.4"
  }
 },
 "nbformat": 4,
 "nbformat_minor": 5
}
